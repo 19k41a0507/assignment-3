{
  "nbformat": 4,
  "nbformat_minor": 0,
  "metadata": {
    "colab": {
      "name": "assignment-3",
      "provenance": [],
      "collapsed_sections": [],
      "authorship_tag": "ABX9TyPvbjS1gJlbpnOakhrgLYr+",
      "include_colab_link": true
    },
    "kernelspec": {
      "name": "python3",
      "display_name": "Python 3"
    }
  },
  "cells": [
    {
      "cell_type": "markdown",
      "metadata": {
        "id": "view-in-github",
        "colab_type": "text"
      },
      "source": [
        "<a href=\"https://colab.research.google.com/github/19k41a0507/assignment-3/blob/master/assignment_3.ipynb\" target=\"_parent\"><img src=\"https://colab.research.google.com/assets/colab-badge.svg\" alt=\"Open In Colab\"/></a>"
      ]
    },
    {
      "cell_type": "code",
      "metadata": {
        "id": "8pgQOzmcC3FO",
        "colab_type": "code",
        "colab": {
          "base_uri": "https://localhost:8080/",
          "height": 84
        },
        "outputId": "b3f0cab1-2fba-47ab-f444-dd93d2baaaf3"
      },
      "source": [
        "#  1. Calculate area of triangle\n",
        "a = float(input('Enter first side: '))\n",
        "b = float(input('Enter second side: '))\n",
        "c = float(input('Enter third side: '))\n",
        "s = (a + b + c) / 2\n",
        "area = (s*(s-a)*(s-b)*(s-c)) ** 0.5\n",
        "print('The area of the triangle is %0.2f' %area)"
      ],
      "execution_count": null,
      "outputs": [
        {
          "output_type": "stream",
          "text": [
            "Enter first side: 5\n",
            "Enter second side: 4\n",
            "Enter third side: 3\n",
            "The area of the triangle is 6.00\n"
          ],
          "name": "stdout"
        }
      ]
    },
    {
      "cell_type": "code",
      "metadata": {
        "id": "nqI8_vhaXssT",
        "colab_type": "code",
        "colab": {
          "base_uri": "https://localhost:8080/",
          "height": 50
        },
        "outputId": "69a374dd-0fc6-42d1-a9a6-d35bd8e8d6db"
      },
      "source": [
        "# 2. whether the string is palindrome is not\n",
        "s=input(\"Enter any string : \")\n",
        "a=s[::-1]\n",
        "s==a\n",
        "if s==a:\n",
        "   print(f\"The String {s} is palindrome\")\n",
        "else:\n",
        "   print(f\"The String {s} is not palindrome\")"
      ],
      "execution_count": null,
      "outputs": [
        {
          "output_type": "stream",
          "text": [
            "Enter any string : eve\n",
            "The String eve is palindrome\n"
          ],
          "name": "stdout"
        }
      ]
    },
    {
      "cell_type": "code",
      "metadata": {
        "id": "_y52UOvmaR_b",
        "colab_type": "code",
        "colab": {
          "base_uri": "https://localhost:8080/",
          "height": 50
        },
        "outputId": "9e178e5b-ae15-4ebc-b60d-2b5c7fd2b784"
      },
      "source": [
        "# 3. leap year or not\n",
        "y=int(input(\"Enter year : \"))\n",
        "if  y%400 == 0 or y%100 != 0 and y%4 == 0:\n",
        "    print(f\"{y} is a Leap Year\")\n",
        "else:\n",
        "    print(\" is Not the Leap Year\".format(y))"
      ],
      "execution_count": null,
      "outputs": [
        {
          "output_type": "stream",
          "text": [
            "Enter year : 2016\n",
            "2016 is a Leap Year\n"
          ],
          "name": "stdout"
        }
      ]
    },
    {
      "cell_type": "code",
      "metadata": {
        "id": "Lwkbl5YeMcKx",
        "colab_type": "code",
        "colab": {
          "base_uri": "https://localhost:8080/",
          "height": 52
        },
        "outputId": "16ddc789-f57d-4c17-93c2-da5d4cfd5893"
      },
      "source": [
        "#4.convert spaces into hyphen\n",
        "s=input(\"\")#enter sentence\n",
        "s=s.replace(' ','-')\n",
        "s"
      ],
      "execution_count": null,
      "outputs": [
        {
          "output_type": "stream",
          "text": [
            "python classes are very interesting\n"
          ],
          "name": "stdout"
        },
        {
          "output_type": "execute_result",
          "data": {
            "application/vnd.google.colaboratory.intrinsic": {
              "type": "string"
            },
            "text/plain": [
              "'python-classes-are-very-interesting'"
            ]
          },
          "metadata": {
            "tags": []
          },
          "execution_count": 43
        }
      ]
    },
    {
      "cell_type": "code",
      "metadata": {
        "id": "Ju5NE9XAMcqj",
        "colab_type": "code",
        "colab": {
          "base_uri": "https://localhost:8080/",
          "height": 34
        },
        "outputId": "a81cd95e-2a82-496c-efa0-90dc89e02f26"
      },
      "source": [
        "#5. unique sort problem\n",
        "list=\"orange\",\"red\",\"green\",\"cyan\",\"white\",\"pink\",\"magenta\"\n",
        "list=sorted(list)\n",
        "list"
      ],
      "execution_count": null,
      "outputs": [
        {
          "output_type": "execute_result",
          "data": {
            "text/plain": [
              "['cyan', 'green', 'magenta', 'orange', 'pink', 'red', 'white']"
            ]
          },
          "metadata": {
            "tags": []
          },
          "execution_count": 6
        }
      ]
    },
    {
      "cell_type": "code",
      "metadata": {
        "id": "rnPCc38coqiA",
        "colab_type": "code",
        "colab": {
          "base_uri": "https://localhost:8080/",
          "height": 50
        },
        "outputId": "c6947d01-5067-4a40-832e-ae25cc5ba65f"
      },
      "source": [
        "#6. Tax for monthly salary\n",
        "s=int(input('Enter salary of a person : '))\n",
        "if s<=250000:\n",
        "    tax=0# in percentage\n",
        "    T=s*(tax/100)\n",
        "elif s>250000 and s<=500000:\n",
        "    tax=5 # in percentage\n",
        "    T=s*(tax/100)\n",
        "elif s>500000 and s<=750000:\n",
        "    tax=10# in percentage\n",
        "    T=s*(tax/100)\n",
        "elif s>750000 and s<=1000000:\n",
        "    tax=15# in percentage\n",
        "    T=s*(tax/100)\n",
        "elif s>1000000 and s<=1250000:\n",
        "    tax=20# in percentage\n",
        "    T=s*(tax/100)\n",
        "elif s>1250000 and s<=1500000:\n",
        "    tax=25# in percentage\n",
        "    T=s*(tax/100)\n",
        "elif s>1500000:\n",
        "    tax=30# in percentage\n",
        "    T=s*(tax/100)\n",
        "print(f'The tax is {T}')"
      ],
      "execution_count": null,
      "outputs": [
        {
          "output_type": "stream",
          "text": [
            "Enter salary of a person : 300000\n",
            "The tax is 15000.0\n"
          ],
          "name": "stdout"
        }
      ]
    },
    {
      "cell_type": "code",
      "metadata": {
        "id": "HJBIp_0R0XcB",
        "colab_type": "code",
        "colab": {
          "base_uri": "https://localhost:8080/",
          "height": 84
        },
        "outputId": "7a231cfc-8684-424a-d6b6-50216cd94418"
      },
      "source": [
        "#7.Convert into single integer\n",
        "a=(input(\"Enter 1st integer \"))\n",
        "b=(input(\"Enter 2nd integer \"))\n",
        "c=(input(\"Enter 3rd integer \"))\n",
        "print(a+b+c)"
      ],
      "execution_count": null,
      "outputs": [
        {
          "output_type": "stream",
          "text": [
            "Enter 1st integer 11\n",
            "Enter 2nd integer 33\n",
            "Enter 3rd integer 50\n",
            "113350\n"
          ],
          "name": "stdout"
        }
      ]
    },
    {
      "cell_type": "code",
      "metadata": {
        "id": "fsuWWXwu0X3B",
        "colab_type": "code",
        "colab": {
          "base_uri": "https://localhost:8080/",
          "height": 101
        },
        "outputId": "7626c17b-8163-4cdb-a05e-712913545e7c"
      },
      "source": [
        "#8.Units of time\n",
        "D=int(input(\"Enter days : \"))\n",
        "H=int(input(\"Enter hours : \"))\n",
        "M=int(input(\"Enter minutes : \"))\n",
        "S=int(input(\"Enter seconds : \"))\n",
        "totalsec=D*24*60*60+H*60*60+M*60+S\n",
        "print(\"Total seconds = \",totalsec)"
      ],
      "execution_count": null,
      "outputs": [
        {
          "output_type": "stream",
          "text": [
            "Enter days : 1\n",
            "Enter hours : 12\n",
            "Enter minutes : 15\n",
            "Enter seconds : 17\n",
            "Total seconds =  130517\n"
          ],
          "name": "stdout"
        }
      ]
    },
    {
      "cell_type": "code",
      "metadata": {
        "id": "ULSgvHeD3q_t",
        "colab_type": "code",
        "colab": {
          "base_uri": "https://localhost:8080/",
          "height": 134
        },
        "outputId": "0e9f570e-7616-4ea6-c5cd-514d98206341"
      },
      "source": [
        "#9.max and min function\n",
        "list=[input(\"1 number : \"),input(\"2 number: \"),input(\"3 number: \")]\n",
        "print(\"max number is\")\n",
        "print(max(list))\n",
        "print(\"min number is\")\n",
        "print(min(list))"
      ],
      "execution_count": null,
      "outputs": [
        {
          "output_type": "stream",
          "text": [
            "1 number : 33\n",
            "2 number: 35\n",
            "3 number: 32\n",
            "max number is\n",
            "35\n",
            "min number is\n",
            "32\n"
          ],
          "name": "stdout"
        }
      ]
    },
    {
      "cell_type": "code",
      "metadata": {
        "id": "Goo_nZPf91D5",
        "colab_type": "code",
        "colab": {
          "base_uri": "https://localhost:8080/",
          "height": 84
        },
        "outputId": "c4dc457c-5b11-4bc4-d1f7-af2acb49d5b8"
      },
      "source": [
        "#10. \n",
        "year=int(input(\"Enter year YYYY : \"))\n",
        "month=int(input(\"Enter month MM : \"))\n",
        "day=int(input(\"Enter date DD : \"))\n",
        "0<month<13\n",
        "0<day<32\n",
        "if day==31 and month==12 :\n",
        "   print (\"YYYY-MM-DD : {}-01-01\".format(year+1))\n",
        "elif (day==31and (month==1 or 3 or 5 or 7 or 8 or 10)) :\n",
        "   print (\"YYYY-MM-DD : {}-{} 01\".format(year,month+1))\n",
        "elif ( day==30 and ( month==4 or 6 or 9 or 11)) :\n",
        "   print(\"YYYY-MM-DD : {}-{}-01\".format(year,month+1))\n",
        "elif ( day==28 and month==2 and year%4==0):\n",
        "   print (\"YYYY-MM-DD : {}-{}-29\".format(year,month))\n",
        "elif(day==28 and month==2):\n",
        "   print (\"YYYY-MM-DD : {}-03-01\".format(year))\n",
        "else : \n",
        "  print (\"YYYY-MM-DD : {}-{}-{}\".format(year,month,day+1))"
      ],
      "execution_count": null,
      "outputs": [
        {
          "output_type": "stream",
          "text": [
            "Enter year YYYY : 2020\n",
            "Enter month MM : 7\n",
            "Enter date DD : 7\n",
            "YYYY-MM-DD : 2020-7-8\n"
          ],
          "name": "stdout"
        }
      ]
    },
    {
      "cell_type": "code",
      "metadata": {
        "id": "8S9zdtlFARg0",
        "colab_type": "code",
        "colab": {
          "base_uri": "https://localhost:8080/",
          "height": 34
        },
        "outputId": "3363d2f9-fd2f-4841-dd6e-8b3b4dd26e03"
      },
      "source": [
        "#11.product of list\n",
        "import numpy\n",
        "list = [45,3,2,89,72,1,10,7]   \n",
        "result = numpy.prod(list) \n",
        "print(result)   "
      ],
      "execution_count": null,
      "outputs": [
        {
          "output_type": "stream",
          "text": [
            "121111200\n"
          ],
          "name": "stdout"
        }
      ]
    },
    {
      "cell_type": "code",
      "metadata": {
        "id": "cZu1l7f_CsvR",
        "colab_type": "code",
        "colab": {
          "base_uri": "https://localhost:8080/",
          "height": 34
        },
        "outputId": "87c6bc3f-1d22-4d98-809d-8895245b8a11"
      },
      "source": [
        "#12. to get desired output\n",
        "def p(a,b,c,d,e,f) :\n",
        "  return a+b,b+c,c+d,d+e,e+f\n",
        "p(5,6,8,34,89,1)"
      ],
      "execution_count": null,
      "outputs": [
        {
          "output_type": "execute_result",
          "data": {
            "text/plain": [
              "(11, 14, 42, 123, 90)"
            ]
          },
          "metadata": {
            "tags": []
          },
          "execution_count": 38
        }
      ]
    },
    {
      "cell_type": "code",
      "metadata": {
        "id": "r789WXeUD0SX",
        "colab_type": "code",
        "colab": {
          "base_uri": "https://localhost:8080/",
          "height": 34
        },
        "outputId": "eda51611-8c76-47b8-864c-6d8599646313"
      },
      "source": [
        "#13.num tuple\n",
        "def p(a,b,c,d,e,f) :\n",
        "  return a,a*b,a*b*c,a*b*c*d,a*b*c*d*e,a*b*c*d*e*f\n",
        "p(5,6,8,3,9,1)"
      ],
      "execution_count": null,
      "outputs": [
        {
          "output_type": "execute_result",
          "data": {
            "text/plain": [
              "(5, 30, 240, 720, 6480, 6480)"
            ]
          },
          "metadata": {
            "tags": []
          },
          "execution_count": 39
        }
      ]
    },
    {
      "cell_type": "code",
      "metadata": {
        "id": "xjJ7JtvoEMuw",
        "colab_type": "code",
        "colab": {
          "base_uri": "https://localhost:8080/",
          "height": 50
        },
        "outputId": "ba3a4992-32b4-4c27-97e7-bb911d215a7b"
      },
      "source": [
        "#14.\n",
        "n=input(\"Enter a number \")\n",
        "c=str(n)\n",
        "l=[]\n",
        "for i in range(len(c)) :\n",
        "  l.append(int(c[i]))\n",
        "print (l)"
      ],
      "execution_count": null,
      "outputs": [
        {
          "output_type": "stream",
          "text": [
            "Enter a number 159732\n",
            "[1, 5, 9, 7, 3, 2]\n"
          ],
          "name": "stdout"
        }
      ]
    },
    {
      "cell_type": "code",
      "metadata": {
        "id": "OcE2FEFKEeIO",
        "colab_type": "code",
        "colab": {
          "base_uri": "https://localhost:8080/",
          "height": 50
        },
        "outputId": "41f552c7-2bce-4b20-9be9-623849fa1bf0"
      },
      "source": [
        "#15.longest palindromic string\n",
        "q=input(\"Enter a palindrome \")\n",
        "list1=[]\n",
        "list2=[]\n",
        "index=0\n",
        "for i in range(0,len(q)-1):\n",
        "   for j in range(i+1,len(q)+1):\n",
        "       if j-i>1:\n",
        "          p=q[i:j]\n",
        "          if (p==p[::-1]):\n",
        "             list1.append(q[i:j])\n",
        "             list2.append(len(q[i:j]))\n",
        "maxi=max(list2)\n",
        "for i in list2:\n",
        "    if i==maxi:\n",
        "       print(list1[index])\n",
        "    else:\n",
        "       index=index+1"
      ],
      "execution_count": null,
      "outputs": [
        {
          "output_type": "stream",
          "text": [
            "Enter a palindrome madam\n",
            "madam\n"
          ],
          "name": "stdout"
        }
      ]
    },
    {
      "cell_type": "code",
      "metadata": {
        "id": "ov3fcmRPFMrF",
        "colab_type": "code",
        "colab": {
          "base_uri": "https://localhost:8080/",
          "height": 67
        },
        "outputId": "9e77d915-c8d4-4e76-9bae-7a7a736f73d4"
      },
      "source": [
        "#16.\n",
        "def substringcheck(str1,str2):\n",
        "    str1len=len(str1)\n",
        "    test=0\n",
        "    for i in range(0,str1len):\n",
        "        if str1[i:i+len(str2)]==str2:\n",
        "            test=1\n",
        "    return test\n",
        "l=input('Enter a binary number l: ')\n",
        "m=input('Enter another binary number m: ')\n",
        "if substringcheck(l,m):\n",
        "    print('1')\n",
        "else:\n",
        "    print('0')"
      ],
      "execution_count": null,
      "outputs": [
        {
          "output_type": "stream",
          "text": [
            "Enter a binary number l: 10011010\n",
            "Enter another binary number m: 100\n",
            "1\n"
          ],
          "name": "stdout"
        }
      ]
    }
  ]
}